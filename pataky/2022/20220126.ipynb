{
 "cells": [
  {
   "cell_type": "markdown",
   "metadata": {},
   "source": [
    "A felhasználó három lehetőség közül választhat:<br>\n",
    "    a) páros számokat írunk ki<br>\n",
    "    b) Kérjünk két számot és írjuk ki a szorzatát.<br>\n",
    "    c) Kérjünk egy számot és írjuk ki hogy páros-e.<br>"
   ]
  },
  {
   "cell_type": "code",
   "execution_count": 2,
   "metadata": {},
   "outputs": [
    {
     "name": "stdout",
     "output_type": "stream",
     "text": [
      "\n",
      "    Menü\n",
      "    A) Páros számokat írunk ki\n",
      "    B) Egy számrol megmondjuk hogy páros-e\n",
      "    C) Szorzatot számolunk.\n",
      "    D) Kilépés\n",
      "    \n",
      "    \n",
      "0, 2, 4, 6, 8, 10, 12, 14, 16, 18, \n",
      "\n",
      "\n",
      "    Menü\n",
      "    A) Páros számokat írunk ki\n",
      "    B) Egy számrol megmondjuk hogy páros-e\n",
      "    C) Szorzatot számolunk.\n",
      "    D) Kilépés\n",
      "    \n",
      "    \n",
      "Nincs ilyen opció.\n",
      "\n",
      "    Menü\n",
      "    A) Páros számokat írunk ki\n",
      "    B) Egy számrol megmondjuk hogy páros-e\n",
      "    C) Szorzatot számolunk.\n",
      "    D) Kilépés\n",
      "    \n",
      "    \n",
      "Viszlát!\n"
     ]
    }
   ],
   "source": [
    "def paros(num:int):\n",
    "    if num % 2 == 0:\n",
    "        print(\"A szám páros.\")\n",
    "    else:\n",
    "        print(\"A szám páratlan.\")\n",
    "\n",
    "\n",
    "def parios():\n",
    "        for x in range(0,20,2):\n",
    "            print(x,end=\", \")\n",
    "        print(\"\\n\")\n",
    "\n",
    "\n",
    "run = True\n",
    "while run:\n",
    "    #Tájékoztatjuk a felhasználót\n",
    "    print(\"\"\"\n",
    "    Menü\n",
    "    A) Páros számokat írunk ki\n",
    "    B) Egy számrol megmondjuk hogy páros-e\n",
    "    C) Szorzatot számolunk.\n",
    "    D) Kilépés\n",
    "    \n",
    "    \"\"\")\n",
    "\n",
    "    todo = input(\">\").lower()\n",
    "    if todo == \"a\": parios()\n",
    "    elif todo == \"b\": paros(int(input('Adj meg egy számot> ')))\n",
    "    elif todo == \"c\": print(int(input(\"Adj meg egy számot> \")) * int(input(\"Adj meg egy számot> \")))\n",
    "    elif todo == \"d\":\n",
    "        run = False\n",
    "        print(\"Viszlát!\")\n",
    "    else: print(\"Nincs ilyen opció.\")\n"
   ]
  },
  {
   "cell_type": "markdown",
   "metadata": {},
   "source": [
    "Kérj be egy szöveget és írd ki hogy palindróma-e."
   ]
  },
  {
   "cell_type": "code",
   "execution_count": 12,
   "metadata": {},
   "outputs": [
    {
     "name": "stdout",
     "output_type": "stream",
     "text": [
      "Panindróma detektor V1\n",
      "\n",
      "Adj meg egy söveget: Nem paligróma.\n"
     ]
    }
   ],
   "source": [
    "\"\"\"Palindróma detektor\"\"\"\n",
    "\n",
    "\n",
    "def flip(_input: str):\n",
    "    _output = \"\"\n",
    "    for l in range(len(_input)-1, -1, -1):\n",
    "        _output += _input[l]\n",
    "    return _output\n",
    "\n",
    "print(\"Panindróma detektor V1\\n\")\n",
    "ispalindroma = False\n",
    "print(\"Adj meg egy söveget\", end=\": \")\n",
    "text = input().lower()\n",
    "text = text.replace(\" \", \"\")\n",
    "fliptext = flip(text)\n",
    "\n",
    "if text == fliptext: print(\"Paligróma\")\n",
    "else: print(\"Nem paligróma.\")"
   ]
  },
  {
   "cell_type": "code",
   "execution_count": 10,
   "metadata": {},
   "outputs": [
    {
     "name": "stdout",
     "output_type": "stream",
     "text": [
      "zyxuonmlkjihtsrqponmlkjihgfedcba\n",
      "anna\n"
     ]
    }
   ],
   "source": [
    "def flip(_input: str):\n",
    "    _output = \"\"\n",
    "    for l in range(len(_input)-1, -1, -1):\n",
    "        _output += _input[l]\n",
    "    return _output\n",
    "\n",
    "print(flip(\"abcdefghijklmnopqrsthijklmnouxyz\"))\n",
    "print(flip('anna'))"
   ]
  }
 ],
 "metadata": {
  "interpreter": {
   "hash": "916dbcbb3f70747c44a77c7bcd40155683ae19c65e1c03b4aa3499c5328201f1"
  },
  "kernelspec": {
   "display_name": "Python 3.7.3 32-bit",
   "language": "python",
   "name": "python3"
  },
  "language_info": {
   "codemirror_mode": {
    "name": "ipython",
    "version": 3
   },
   "file_extension": ".py",
   "mimetype": "text/x-python",
   "name": "python",
   "nbconvert_exporter": "python",
   "pygments_lexer": "ipython3",
   "version": "3.7.3"
  },
  "orig_nbformat": 4
 },
 "nbformat": 4,
 "nbformat_minor": 2
}
