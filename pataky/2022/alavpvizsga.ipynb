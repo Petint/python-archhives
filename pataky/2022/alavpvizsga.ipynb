{
 "cells": [
  {
   "cell_type": "markdown",
   "metadata": {},
   "source": [
    "Elő alapvizsga python feladatok\n",
    "oszto.py"
   ]
  },
  {
   "cell_type": "code",
   "execution_count": 5,
   "metadata": {},
   "outputs": [
    {
     "name": "stdout",
     "output_type": "stream",
     "text": [
      "24 osztói:\n",
      "1\n",
      "2\n",
      "3\n",
      "4\n",
      "6\n",
      "8\n",
      "12\n",
      "24\n"
     ]
    }
   ],
   "source": [
    "#kérjünk be egy pozítív egész számot és írjuk ki az osztóit.\n",
    "\n",
    "num = int(input(\"Adj meg egy pozitív egész számot\"))\n",
    "osztok = []\n",
    "\n",
    "for x in range(1, num+1):\n",
    "    if num % x == 0:\n",
    "        osztok.append(x)\n",
    "\n",
    "print(f\"{num} osztói:\")\n",
    "for x in osztok: print(x)"
   ]
  },
  {
   "cell_type": "markdown",
   "metadata": {},
   "source": [
    "# Csudaságok\n",
    "---\n"
   ]
  },
  {
   "cell_type": "code",
   "execution_count": 1,
   "metadata": {},
   "outputs": [
    {
     "name": "stdout",
     "output_type": "stream",
     "text": [
      "\n",
      "Csudaságos matekprogram V2\n",
      "\n",
      "1: Összeadás\n",
      "2: Kivonás\n",
      "3: Osztás\n",
      "4: Szorzás\n",
      "\n",
      "Nullával nem lehet osztani.\n"
     ]
    }
   ],
   "source": [
    "# CALC.PY\n",
    "\n",
    "print(\"\"\"\n",
    "Csudaságos matekprogram V2\n",
    "\n",
    "1: Összeadás\n",
    "2: Kivonás\n",
    "3: Osztás\n",
    "4: Szorzás\n",
    "\"\"\")\n",
    "\n",
    "valasztas = int(input(\"Válassz egyet [1, 2, 3, 4]: \"))\n",
    "\n",
    "if valasztas in range(1, 5):\n",
    "    a = float(input(\"Adj meg egy számot:  \"))\n",
    "    b = float(input(\"Adj meg egy számot:  \"))\n",
    "    if valasztas == 1:    print(f\"{a} + {b} = {a+b}\")\n",
    "    elif valasztas == 2:  print(f\"{a} - {b} = {a-b}\")\n",
    "    elif valasztas == 3:\n",
    "        try:    print(f\"{a} / {b} = {a/b}\")\n",
    "        except: print(\"Nullával nem lehet osztani.\")\n",
    "    else:                 print(f\"{a} * {b} = {a*b}\")\n",
    "else: print(\"Nincs ilyen.\")"
   ]
  }
 ],
 "metadata": {
  "interpreter": {
   "hash": "916dbcbb3f70747c44a77c7bcd40155683ae19c65e1c03b4aa3499c5328201f1"
  },
  "kernelspec": {
   "display_name": "Python 3.7.3 32-bit",
   "language": "python",
   "name": "python3"
  },
  "language_info": {
   "codemirror_mode": {
    "name": "ipython",
    "version": 3
   },
   "file_extension": ".py",
   "mimetype": "text/x-python",
   "name": "python",
   "nbconvert_exporter": "python",
   "pygments_lexer": "ipython3",
   "version": "3.7.3"
  },
  "orig_nbformat": 4
 },
 "nbformat": 4,
 "nbformat_minor": 2
}
