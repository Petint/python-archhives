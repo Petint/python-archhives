{
 "cells": [
  {
   "cell_type": "markdown",
   "metadata": {},
   "source": [
    "<h3 id=\"04-02\" class=\"h3_test\">04-01 Lista információk </h3>\n",
    "<div class=\"solutionDescription\"><span class=\"descriptionTitle\">Feladat leírás:</span><br>Adott az alábbi lista:<br>data = [3, 45, 6, 8, 324, 56, 23, 45, 98, 777, 678, 83, 65, 98]<br>A mintának megfelelő módon írjuk ki:<br>- hány elem van a listában<br>- a lista első elemét<br>- a lista utolsó elemét<br>- a lista harmadik és ötödik elemének az összegét<br>- a lista legkisebb értékét<br>- a lista legnagyobb értékét<br>- a lista elemeinek az összegét<br>- a lista elemeinek az átlagát<br>Akkor is helyesen működjön a program, ha módosítjuk a listát!<br></div>\n",
    "<div class=\"solutionImage\">Végeredmény minta (részlet): <br><img src=\"https://python.tanit.hu/./04 Listák/04-01 Lista információk/04-01 Lista információk.png\" alt=\"04-01 Lista információk\"></div>"
   ]
  },
  {
   "cell_type": "code",
   "execution_count": 1,
   "metadata": {},
   "outputs": [
    {
     "name": "stdout",
     "output_type": "stream",
     "text": [
      "\n",
      "Egy előre meghatárorott lista elemeiről írunk ki információkat.\n",
      "A lista 14 elemet tartalmaz.\n",
      "A lista első eleme: 3\n",
      "A lista utolsó eleme: 98\n",
      "A lista harmadik és ötödik elemének összege: 330\n",
      "A lista legkisebb éretéke: 3\n",
      "A lista legnagyobb értéke: 777\n",
      "A lista elemeinek az összege: 2309\n",
      "A lista elemeinek az átlaga: 164.92857142857142\n",
      "\n"
     ]
    }
   ],
   "source": [
    "data = [3, 45, 6, 8, 324, 56, 23, 45, 98, 777, 678, 83, 65, 98]\n",
    "\n",
    "print(f\"\"\"\n",
    "Egy előre meghatárorott lista elemeiről írunk ki információkat.\n",
    "A lista {len(data)} elemet tartalmaz.\n",
    "A lista első eleme: {data[0]}\n",
    "A lista utolsó eleme: {data[-1]}\n",
    "A lista harmadik és ötödik elemének összege: {data[2] + data[4]}\n",
    "A lista legkisebb éretéke: {min(data)}\n",
    "A lista legnagyobb értéke: {max(data)}\n",
    "A lista elemeinek az összege: {sum(data)}\n",
    "A lista elemeinek az átlaga: {sum(data) / len(data)}\n",
    "\"\"\")"
   ]
  },
  {
   "cell_type": "markdown",
   "metadata": {},
   "source": [
    "<h3 id=\"04-02\" class=\"h3_test\">04-02 Lista információk </h3>\n",
    "<div class=\"solutionDescription\"><span class=\"descriptionTitle\">Feladat leírás:</span><br>A mellékelt forráskódot egészítsd ki, hogy a 'data' listáról írja ki az alábbi információkat a mintának megfelelően:<br>- hány elem van a listában<br>- a lista legnagyobb értékét<br>- a lista első elemét<br>- a lista utolsó előtti elemét<br>- a lista első és utolsó előtti elemének a szorzatát<br>- a lista második és harmadik elemének a különbségét<br>- a lista legkisebb értékének a dupláját<br>- a lista elemeinek az összegét<br>- a lista elemeinek az átlagát<br>Természetesen a generált véletlen számok minden futtatáskor mások lesznek, így a mintában mutatott konkrét értékek nem mérvadóak.<br></div>\n",
    "<div class=\"attachment\">A mellékelt fájlt <a href=\"https://python.tanit.hu/./04 Listák/04-02 Lista információk/04-02 Lista információk.txt\" target=\"_blank\">innen töltheted le</a>.</div>\n",
    "<div class=\"solutionImage\">Végeredmény minta (részlet): <br><img src=\"https://python.tanit.hu/./04 Listák/04-02 Lista információk/04-02 Lista információk.png\" alt=\"04-02 Lista információk\"></div>"
   ]
  },
  {
   "cell_type": "code",
   "execution_count": 2,
   "metadata": {},
   "outputs": [
    {
     "name": "stdout",
     "output_type": "stream",
     "text": [
      "Egy véletlenszerű számokból álló lista elemiről írunk ki információkat.\n",
      "A 'data' lista tartalma:  [16, 14, 8, 8, 3]\n",
      "\n",
      "Egy előre meghatárorott lista elemeiről írunk ki információkat.\n",
      "A lista 5 elemet tartalmaz.\n",
      "A lista legnagyobb értéke: 16\n",
      "A lista első eleme: 16\n",
      "A lista utolsó eleme: 8\n",
      "A lista első és utolsó előtti elemének szorzata: 128\n",
      "A lista második és harmadik elemének a külöbmsége: 6\n",
      "A lista legkisebb éretékének a duplája: 6\n",
      "A lista elemeinek az összege: 49\n",
      "A lista elemeinek az átlaga: 9.8\n",
      "\n"
     ]
    }
   ],
   "source": [
    "# Beolvassuk a véletlen számokat generáló modulból az egész szám generáló függvényt\n",
    "from random import randint \n",
    "\n",
    "itemCount = 5 # A lista elemeinek száma\n",
    "data = [] # Létrehozunk egy üres listát\n",
    "# Indítunk egy ciklust a véletlen számok létrehozására\n",
    "for i in range(itemCount):\n",
    "    newItem = randint(1, 20) # Generálunk egy új véletlen egész számot\n",
    "    data.append(newItem) # Felvesszük a listába az új elemet\n",
    "\n",
    "\n",
    "print('Egy véletlenszerű számokból álló lista elemiről írunk ki információkat.') # Tájékoztatjuk a felhasználót, hogy hogyan működik a program\n",
    "print(\"A 'data' lista tartalma: \", data) # Kiírjuk a lista tartalmát\n",
    "# Kiírjuk a kért információkat\n",
    "print(f\"\"\"\n",
    "Egy előre meghatárorott lista elemeiről írunk ki információkat.\n",
    "A lista {len(data)} elemet tartalmaz.\n",
    "A lista legnagyobb értéke: {max(data)}\n",
    "A lista első eleme: {data[0]}\n",
    "A lista utolsó eleme: {data[-2]}\n",
    "A lista első és utolsó előtti elemének szorzata: {data[0] * data[-2]}\n",
    "A lista második és harmadik elemének a külöbmsége: {data[1] - data[2]}\n",
    "A lista legkisebb éretékének a duplája: {min(data) * 2}\n",
    "A lista elemeinek az összege: {sum(data)}\n",
    "A lista elemeinek az átlaga: {sum(data) / len(data)}\n",
    "\"\"\")"
   ]
  },
  {
   "cell_type": "markdown",
   "metadata": {},
   "source": [
    "<h3 id=\"04-03\" class=\"h3_test\">04-03 Lista részek </h3>\n",
    "<div class=\"solutionDescription\"><span class=\"descriptionTitle\">Feladat leírás:</span><br>Tölts fel egy 100 elemű listát háromjegyű véletlen egész számokkal és írasd ki<br>- a tizedik elemét<br>- a másodiktól az ötödik eleméig<br>- az utolsó előtti elemét<br>- az első három elemét<br>- az utolsó három elemét<br>- a hetedik elemétől a végéig<br></div>\n",
    "<div class=\"solutionImage\">Végeredmény minta (részlet): <br><img src=\"https://python.tanit.hu/./04 Listák/04-03 Lista részek/04-03 Lista részek.png\" alt=\"04-03 Lista részek\"></div>"
   ]
  },
  {
   "cell_type": "code",
   "execution_count": 3,
   "metadata": {},
   "outputs": [
    {
     "name": "stdout",
     "output_type": "stream",
     "text": [
      "\n",
      "A lista tizedik eleme: 560\n",
      "A lista másodiktol ötödik elemei : [394, 857, 371, 621]\n",
      "A lista utolsó előtti eleme : 716\n",
      "A lista első három eleme: [182, 394, 857]\n",
      "A lista utolsó három eleme: [473, 716, 193]\n",
      "A lista kilencnenhetedik elemétől a végéig: [743, 678, 473, 716, 193]\n",
      "\n"
     ]
    }
   ],
   "source": [
    "from random import randint\n",
    "\n",
    "l_o_l = 100\n",
    "data = [randint(100, 999) for _ in range(l_o_l)]\n",
    "print(f\"\"\"\n",
    "A lista tizedik eleme: {data[9]}\n",
    "A lista másodiktol ötödik elemei : {data[1:5]}\n",
    "A lista utolsó előtti eleme : {data[-2]}\n",
    "A lista első három eleme: {data[:3]}\n",
    "A lista utolsó három eleme: {data[-3:]}\n",
    "A lista kilencnenhetedik elemétől a végéig: {data[95:]}\n",
    "\"\"\")"
   ]
  },
  {
   "cell_type": "markdown",
   "metadata": {},
   "source": [
    "<h3 id=\"04-04\" class=\"h3_test\">04-04 Listák összevetése </h3>\n",
    "<div class=\"solutionDescription\"><span class=\"descriptionTitle\">Feladat leírás:</span><br>Egészítsd ki a mellékelt programot úgy, hogy az abban a szereplő két listáról (data1, data2) állapítsd meg:<br>1. Melyik listának van több eleme<br>2. Hányadik számnál van az első eltérő elem<br>3. Melyikben szerepel többször a 10-es szám<br>4. Melyiknek nagyobb az elemei átlaga <br>Akkor is helyesen működjön a program, ha módosítjuk a két listát!<br></div>\n",
    "<div class=\"attachment\">A mellékelt fájlt <a href=\"https://python.tanit.hu/./04 Listák/04-04 Listák összevetése/04-04 Listák összevetése.txt\" target=\"_blank\">innen töltheted le</a>.</div>\n"
   ]
  },
  {
   "cell_type": "code",
   "execution_count": 4,
   "metadata": {},
   "outputs": [
    {
     "name": "stdout",
     "output_type": "stream",
     "text": [
      "Két lista elemeit vetjük össze.\n",
      "A 'data2' listának tőbb eleme van a másiknál.\n",
      "Az első eltérő elem: 26\n",
      "A 'data2' lista tőbb 10-et tartalmaz a másiknál.\n",
      "A 'data1' listának magasabb átlaga van a másiknál.\n"
     ]
    }
   ],
   "source": [
    "# Tájékoztatjuk a felhasználót, hogy hogyan működik a program\n",
    "print('Két lista elemeit vetjük össze.')\n",
    "\n",
    "# Az előre megadott két lista\n",
    "data1 = [3,45,10,8,324,56, 23,45,98,777,678,83,65,98,4,7,65,10,98,3,23,53,16,763,9,495,6,7,87,53,165,34,79,52,36,77,521,243,34,56,765,34,23,125,7,5,34,8,234,31,3]\n",
    "data2 = [3,45,10,8,324,56,23,45,98,777,678,83,65,98,4,7,65,10,98,3,23,53,16,763,9,465,6,7,87,53,165,34,79,79,52,10,8,77,521,243,34,56,765,10,23,125,7,5,6,34,8,234,31,3]\n",
    "\n",
    "print('A \\'data1\\' listának',end=' ') if len(data1) > len(data2) else print(\"A \\'data2\\' listának\",end=' ')\n",
    "print(\"tőbb eleme van a másiknál.\")\n",
    "\n",
    "x = -1\n",
    "run = True\n",
    "while run:\n",
    "    x += 1\n",
    "    run = data1[x] == data2[x]\n",
    "print(f\"Az első eltérő elem: {x + 1}\")\n",
    "\n",
    "print('A \\'data1\\' lista',end=' ') if data1.count(10) > data2.count(10) else print(\"A \\'data2\\' lista\",end=' ')\n",
    "print(\"tőbb 10-et tartalmaz a másiknál.\")\n",
    "\n",
    "avg1, avg2 = sum(data1) / len(data1),sum(data2) / len(data2)\n",
    "print('A \\'data1\\' listának',end=' ') if avg1 > avg2 else print(\"A \\'data2\\' listának\",end=' ')\n",
    "print(\"magasabb átlaga van a másiknál.\")\n",
    "\n"
   ]
  },
  {
   "cell_type": "markdown",
   "metadata": {},
   "source": [
    "<h3 id=\"04-05\" class=\"h3_test\">04-05 Lista sorrend </h3>\n",
    "<div class=\"solutionDescription\"><span class=\"descriptionTitle\">Feladat leírás:</span><br>Mindegyik alábbi feladathoz készítsünk saját függvényt. A 2 feladattól kezdve a függvények bemenő paramétere a lista, visszatérési értékük pedig a kiíratandó teljes szöveges válasz a kérdésre.<br>1. Olvassunk be öt egész számot egy listába. Feltételezhetjük, hogy a felhasználó valóban csak egész számokat ad meg.<br>2. Írjuk ki a lista elemeit egy sorban, kötőjellel elválasztva, abban a sorrendben, ahogy azt a felhasználó megadta.<br>3. Írjuk ki a lista elemeit fordított sorrendben, egy sorban, kötőjellel elválasztva.<br>4. Írjuk ki, hányadik elem a legkisebb és mennyi az.<br>5. Írjuk ki, hányadik elem a legnagyobb és mennyi az.<br>6. Írjuk ki melyik elem áll a legközelebb a teljes lista átlagához és hogy az hányadik elem.<br><br></div>"
   ]
  },
  {
   "cell_type": "code",
   "execution_count": 5,
   "metadata": {},
   "outputs": [
    {
     "name": "stdout",
     "output_type": "stream",
     "text": [
      "Nem (megfelelő) számot adtál meg.\n",
      "1-5-467-346-32456-\n",
      "32456-346-467-5-1-\n",
      "A legkisebb elem: 1\n",
      "A helye: 1\n",
      "A legnagyobb elem: 32456\n",
      "A helye: 5\n",
      "6655\n",
      "A lista átlagához legközelebbi érték: 467\n",
      "A helye: 3\n"
     ]
    }
   ],
   "source": [
    "def duget(l: int) -> 'list[int]':\n",
    "    nums = []\n",
    "    while len(nums) < 5:\n",
    "        try:\n",
    "            n = int(input(\"Addj meg egy egész számot: \"))\n",
    "        except ValueError:\n",
    "            print(\"Nem (megfelelő) számot adtál meg.\")\n",
    "        else:\n",
    "            nums.append(n)\n",
    "    return nums\n",
    "\n",
    "\n",
    "def pdat(dat: 'list[int]'):\n",
    "    for y in dat:\n",
    "        print(y, end='-')\n",
    "    print('')\n",
    "\n",
    "\n",
    "def rev(_input: 'list[int]') -> 'list[int]':\n",
    "    _output = []\n",
    "    for l in range(len(_input)-1, -1, -1):\n",
    "        _output.append(_input[l])\n",
    "    return _output\n",
    "    \n",
    "\n",
    "def getmin(_input: 'list[int]'):\n",
    "    mp = 0  \n",
    "    min = _input[0]\n",
    "    for i in range(len(_input)):\n",
    "        if _input[i] < min:\n",
    "            min, mp = _input[i], i\n",
    "    print(f\"A legkisebb elem: {min}\\nA helye: {mp+1}\")\n",
    "\n",
    "\n",
    "def getmax(_input: 'list[int]'):\n",
    "    mp = 0  \n",
    "    max = _input[0]\n",
    "    for i in range(len(_input)):\n",
    "        if _input[i] > max:\n",
    "            max, mp = _input[i], i\n",
    "    print(f\"A legnagyobb elem: {max}\\nA helye: {mp+1}\")\n",
    "\n",
    "\n",
    "def getavrg(_inout: 'list[int]'):\n",
    "    avrg = sum(_inout) // len(_inout)\n",
    "    print(avrg)\n",
    "    # Unlocked new ability: list.index()\n",
    "    try:\n",
    "        avrp = _inout.index(avrg)\n",
    "    except ValueError:\n",
    "        avrg = min(_inout, key=lambda x:abs(x-avrg))\n",
    "        avrp = _inout.index(avrg)\n",
    "    print(f'A lista átlagához legközelebbi érték: {avrg}\\nA helye: {avrp + 1}')\n",
    "    \n",
    "\n",
    "\n",
    "data = duget(5)\n",
    "pdat(data)\n",
    "pdat(rev(data))\n",
    "getmin(data)\n",
    "getmax(data)\n",
    "getavrg(data)\n"
   ]
  },
  {
   "cell_type": "markdown",
   "metadata": {},
   "source": [
    "<h3 id=\"04-13\" class=\"h3_test\">04-13 Lista információk fájlból </h3>\n",
    "<div class=\"solutionDescription\"><span class=\"descriptionTitle\">Feladat leírás:</span><br>A mellékelt forráskódot egészítsd ki, hogy a 'data' listáról írja ki az alábbi információkat a mintának megfelelően.<br>Az adatok a fájlban fejléc nélkül szerepelnek az alábbi minta szerint:<br>Lengyel Elizabet;1979-04-15;Szolnok;Pék<br>Dudás Bence;2001-11-08;Debrecen;Üzletkötő<br>Halász Ferenc;1988-12-26;Érd;Raktárkezelő<br>Antal Viktória;1982-02-28;Miskolc;Óvónő<br><br>Minden beolvasott sor a 'data' listában a pontosvesszők mentén al-listában van tárolva úgy, hogy egy sor a fájlból a 'data' egy eleme lett. Ezek ez elemek al-listák, ahol az első elem a név, a második elem a születési dátum, a harmadik a lakhely, negyedik pedig a foglalkozás.<br><br>Írassuk ki az alábbi adatokat:<br>- hány név szerepel a listában<br>- ki a legfiatalabb, mikor született és hol lakik<br>- ki a legidősebb, mikor született és mi a foglalkozása<br>- hány budapesti szerepel a listában<br>- hány szolnoki pék szerepel a listában<br><br>A program akkor is helyesen működjön, ha más a beolvasott fájl tartalma, de a struktúrája azonos. <br></div>\n",
    "<div class=\"attachment\">A mellékelt fájlt <a href=\"https://python.tanit.hu/./04 Listák/04-13 Lista információk fájlból/04-13 Lista információk random.txt\" target=\"_blank\">innen töltheted le</a>.</div>\n",
    "<div class=\"attachment\">A mellékelt fájlt <a href=\"https://python.tanit.hu/./04 Listák/04-13 Lista információk fájlból/data.txt\" target=\"_blank\">innen töltheted le</a>.</div>\n",
    "<div class=\"solutionImage\">Végeredmény minta (részlet): <br><img src=\"https://python.tanit.hu/./04 Listák/04-13 Lista információk fájlból/04-13 Lista információk random.png\" alt=\"04-13 Lista információk random\"></div>\n"
   ]
  },
  {
   "cell_type": "code",
   "execution_count": 6,
   "metadata": {},
   "outputs": [
    {
     "name": "stdout",
     "output_type": "stream",
     "text": [
      "Egy fájlból beolvasott lista elemeiről írunk ki információkat.\n",
      "A lista elemeinek száma: 2500\n",
      "A legfiatalabb: ﻿Kovács Dorka, született: 1998-06-11, Lakhelye: Budapest\n",
      "A legidősebb: Antal Amira, született: 1958-04-23, Lakhelye: Tatabánya\n",
      "A budapestiek száma: 466\n",
      "A szolnoki pékek száma: 2\n"
     ]
    }
   ],
   "source": [
    "# Tájékoztatjuk a felhasználót, hogy hogyan működik a program \n",
    "print('Egy fájlból beolvasott lista elemeiről írunk ki információkat.')\n",
    "# A beolvasandó fájl neve\n",
    "fileName = 'data.txt'\n",
    "\n",
    "# Megnyitjuk a text (t) fájlt olvasásra (r)\n",
    "file = open(fileName, 'tr', encoding=\"utf-8\")\n",
    "# Létrehozunk egy üres listát\n",
    "data = []\n",
    "# Indítunk egy ciklust amely végigmegy a fájl sorain\n",
    "for row in file.read().splitlines():\n",
    "    # Ha üres a sor, akkor továbblépünk\n",
    "    if row == '':\n",
    "        continue\n",
    "    # Elkészítjük az al-listát, pontosvessző mentén tagolva az adatokat\n",
    "    newItem = row.split(';')\n",
    "    # Felvesszük a 'data' listába az új elemet, vagyis az al-listát\n",
    "    data.append(newItem)\n",
    "\n",
    "# Lezárjuk a fájlt\n",
    "file.close()\n",
    "\n",
    "\n",
    "# def legfiatalabb(dta: 'list[list]'):\n",
    "#     mini = dta[0][1]\n",
    "#     for x in dta:\n",
    "#         if x[1] < mini:\n",
    "#             mini = x[1]\n",
    "#     # x = dta.index(mini)\n",
    "# \n",
    "#     return mini\n",
    "\n",
    "\n",
    "def getmin(_input: 'list[list]'):\n",
    "    mini = max(_input)\n",
    "    print(f\"A legfiatalabb: {mini[0]}, született: {mini[1]}, Lakhelye: {mini[2]}\")\n",
    "\n",
    "\n",
    "def getmax(_input: 'list[list]'):\n",
    "    maxi = min(_input)\n",
    "    print(f\"A legidősebb: {maxi[0]}, született: {maxi[1]}, Lakhelye: {maxi[2]}\")\n",
    "\n",
    "def budapest(dta: 'list[list]'):\n",
    "    cnt = 0\n",
    "    for x in dta:\n",
    "        cnt += x.count(\"Budapest\")\n",
    "    print(f\"A budapestiek száma: {cnt}\")\n",
    "\n",
    "\n",
    "def szolnok(dta: 'list[list]'):\n",
    "    pekek = 0\n",
    "    for x in dta:\n",
    "        if x[2] == 'Szolnok' and x[3] == 'Pék':\n",
    "            pekek += 1\n",
    "    print(f\"A szolnoki pékek száma: {pekek}\")\n",
    "\n",
    "\n",
    "print(f\"A lista elemeinek száma: {len(data)}\")\n",
    "getmin(data)\n",
    "getmax(data)\n",
    "budapest(data)\n",
    "szolnok(data)\n",
    "\n",
    "\n"
   ]
  }
 ],
 "metadata": {
  "interpreter": {
   "hash": "5e384b88fead27f070837c68802e2f0206049d7398799254276f9d160c871ff3"
  },
  "kernelspec": {
   "display_name": "Python 3.7.9 64-bit (windows store)",
   "language": "python",
   "name": "python3"
  },
  "language_info": {
   "codemirror_mode": {
    "name": "ipython",
    "version": 3
   },
   "file_extension": ".py",
   "mimetype": "text/x-python",
   "name": "python",
   "nbconvert_exporter": "python",
   "pygments_lexer": "ipython3",
   "version": "3.7.9"
  },
  "orig_nbformat": 4
 },
 "nbformat": 4,
 "nbformat_minor": 2
}
