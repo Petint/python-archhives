{
 "cells": [
  {
   "attachments": {},
   "cell_type": "markdown",
   "metadata": {},
   "source": [
    "# 04-16 Hőmérséklet adatok\n",
    "\n",
    "<span class=\"descriptionTitle\">Feladat leírás:</span><br>Adott a BP_homerseklet.txt fájl, amely utf-8 kódolással tartalmazza Budapest éves hőmérsékleti adatait, pontosvesszőkkel elválasztva.<br>A fájl az alábbi fejlécet és adatokat tartalmazza: #ev;kozepho;maxho;maxho_nap;minho;minho_nap<br>Fejléc elemek magyarázata:<br>ev         - évszám<br>kozepho    - évi középhőmérséklet<br>maxho      - a legmagasabb napi középhőmérséklet az évben<br>maxho_nap  - a legmagasabb napi középhőmérséklet napja<br>minho      - a legalacsonyabb napi középhőmérséklet az évben<br>minho_nap  - a legalacsonyabb napi középhőmérséklet napja<br><br>1. feladat: Írjunk egy \"beolvas\" függvényt a fájl adatainak listába történő belvasására.<br>2. feladat: Ellenőrizzük, hogy minden év adata megvan-e a fájlban 1901-től 2020-ig (ez 120 adat).<br>       Ha megvan minden adat, akkor írjuk ki, hogy: \"Minden év adata megvan 1901-től 2020-ig.\"<br>       Különben írjuk ki, hogy: \"Hiányos a fájl, nincs meg minden adat 1901-től 2020-ig.\"<br>3. feladat: Írjuk ki azokat az éveket, amelyekben Karácsony napján (december 25-én) volt a leghidegebb.<br>4. feladat: Keressük meg azt az évet, amelyben a legnagyobb volt a minimális és maximális hőmérséklet közti különbség.<br><br>[Az adatok forrása](https://www.met.hu/eghajlat/magyarorszag_eghajlata/eghajlati_adatsorok/Budapest/adatok/eves_adatok/)<br>"
   ]
  },
  {
   "cell_type": "code",
   "execution_count": 3,
   "metadata": {},
   "outputs": [],
   "source": [
    "import numpy as np\n",
    "import pandas as pd\n",
    "from matplotlib import pyplot"
   ]
  },
  {
   "cell_type": "code",
   "execution_count": 5,
   "metadata": {},
   "outputs": [
    {
     "data": {
      "text/html": [
       "<div>\n",
       "<style scoped>\n",
       "    .dataframe tbody tr th:only-of-type {\n",
       "        vertical-align: middle;\n",
       "    }\n",
       "\n",
       "    .dataframe tbody tr th {\n",
       "        vertical-align: top;\n",
       "    }\n",
       "\n",
       "    .dataframe thead th {\n",
       "        text-align: right;\n",
       "    }\n",
       "</style>\n",
       "<table border=\"1\" class=\"dataframe\">\n",
       "  <thead>\n",
       "    <tr style=\"text-align: right;\">\n",
       "      <th></th>\n",
       "      <th>ev</th>\n",
       "      <th>kozepho</th>\n",
       "      <th>maxho</th>\n",
       "      <th>maxho_nap</th>\n",
       "      <th>minho</th>\n",
       "      <th>minho_nap</th>\n",
       "    </tr>\n",
       "  </thead>\n",
       "  <tbody>\n",
       "    <tr>\n",
       "      <th>0</th>\n",
       "      <td>1901</td>\n",
       "      <td>10.8</td>\n",
       "      <td>27.4</td>\n",
       "      <td>1901-07-30</td>\n",
       "      <td>-12.2</td>\n",
       "      <td>1901-01-10</td>\n",
       "    </tr>\n",
       "    <tr>\n",
       "      <th>1</th>\n",
       "      <td>1902</td>\n",
       "      <td>10.1</td>\n",
       "      <td>25.4</td>\n",
       "      <td>1902-08-07</td>\n",
       "      <td>-17.6</td>\n",
       "      <td>1902-12-15</td>\n",
       "    </tr>\n",
       "    <tr>\n",
       "      <th>2</th>\n",
       "      <td>1903</td>\n",
       "      <td>11.4</td>\n",
       "      <td>28.7</td>\n",
       "      <td>1903-07-20</td>\n",
       "      <td>-11.5</td>\n",
       "      <td>1903-01-23</td>\n",
       "    </tr>\n",
       "    <tr>\n",
       "      <th>3</th>\n",
       "      <td>1904</td>\n",
       "      <td>11.3</td>\n",
       "      <td>28.5</td>\n",
       "      <td>1904-08-07</td>\n",
       "      <td>-6.5</td>\n",
       "      <td>1904-01-12</td>\n",
       "    </tr>\n",
       "    <tr>\n",
       "      <th>4</th>\n",
       "      <td>1905</td>\n",
       "      <td>11.0</td>\n",
       "      <td>28.9</td>\n",
       "      <td>1905-08-05</td>\n",
       "      <td>-11.0</td>\n",
       "      <td>1905-01-01</td>\n",
       "    </tr>\n",
       "  </tbody>\n",
       "</table>\n",
       "</div>"
      ],
      "text/plain": [
       "     ev  kozepho  maxho   maxho_nap  minho   minho_nap\n",
       "0  1901     10.8   27.4  1901-07-30  -12.2  1901-01-10\n",
       "1  1902     10.1   25.4  1902-08-07  -17.6  1902-12-15\n",
       "2  1903     11.4   28.7  1903-07-20  -11.5  1903-01-23\n",
       "3  1904     11.3   28.5  1904-08-07   -6.5  1904-01-12\n",
       "4  1905     11.0   28.9  1905-08-05  -11.0  1905-01-01"
      ]
     },
     "execution_count": 5,
     "metadata": {},
     "output_type": "execute_result"
    }
   ],
   "source": [
    "tempatures_df = pd.read_csv('BP_homerseklet.csv')\n",
    "tempatures_df.head()"
   ]
  }
 ],
 "metadata": {
  "kernelspec": {
   "display_name": "Python 3",
   "language": "python",
   "name": "python3"
  },
  "language_info": {
   "codemirror_mode": {
    "name": "ipython",
    "version": 3
   },
   "file_extension": ".py",
   "mimetype": "text/x-python",
   "name": "python",
   "nbconvert_exporter": "python",
   "pygments_lexer": "ipython3",
   "version": "3.11.1"
  },
  "orig_nbformat": 4,
  "vscode": {
   "interpreter": {
    "hash": "1432c27067456d9c602523e5e936aced0263109f5a71177d7cb50b721b862e5e"
   }
  }
 },
 "nbformat": 4,
 "nbformat_minor": 2
}
